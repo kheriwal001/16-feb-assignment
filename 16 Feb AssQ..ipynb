{
 "cells": [
  {
   "cell_type": "code",
   "execution_count": null,
   "id": "b9362478-9747-4e23-9a43-6a11c4e84be7",
   "metadata": {},
   "outputs": [],
   "source": [
    "Q.1> What is a database ? Differenciate between SQL and NoSQL database .\n",
    "Ans> A database is a structured collection of data that is stored and organized in a way that allows \n",
    "     for efficient retrieval and manipulation of information. Databases are commonly used in software \n",
    "     applications to store and manage data, such as customer information, product catalogs, and financial \n",
    "     records.\n",
    "\n",
    "     SQL and NoSQL are two different types of database management systems (DBMSs) that differ in their \n",
    "     approach to organizing and storing data.\n",
    "\n",
    "     SQL (Structured Query Language) databases are relational databases that use tables to organize and store \n",
    "     data. They use a predefined schema to define the structure of the data and enforce data integrity. SQL \n",
    "     databases are typically used for applications that require complex data relationships and transactions, \n",
    "     such as banking systems or e-commerce websites.\n",
    "\n",
    "     NoSQL (Not Only SQL) databases are non-relational databases that use flexible schemas to store and organize \n",
    "     data. They can handle large volumes of unstructured and semi-structured data, such as social media data or \n",
    "     sensor data. NoSQL databases are typically used for applications that require high scalability and performance, \n",
    "     such as big data analytics or real-time data processing."
   ]
  },
  {
   "cell_type": "code",
   "execution_count": null,
   "id": "2043da28-cceb-4969-b1e4-74bc1680102a",
   "metadata": {},
   "outputs": [],
   "source": [
    "Q.2> What is DDL? Explain why CREATE, DROP, ALTER, and TRUNCATE are used with an example.\n",
    "Ans> DDL stands for Data Definition Language, which is a set of SQL commands used to create, \n",
    "     modify, and delete database objects such as tables, views, and indexes.\n",
    "     CREATE is used to create new database objects, such as tables. For example, to create a new table \n",
    "     named \"customers\" with columns for \"customer_id\", \"customer_name\", and \"customer_email\", you could \n",
    "     use the following SQL statement:\n",
    "            CREATE TABLE customers (\n",
    "              customer_id INT PRIMARY KEY,\n",
    "              customer_name VARCHAR(50),\n",
    "              customer_email VARCHAR(100)\n",
    "             );\n",
    "     DROP is used to delete existing database objects, such as tables. For example, to delete the \"customers\" \n",
    "     table, you could use the following SQL statement:\n",
    "     DROP TABLE customers;\n",
    "     \n",
    "    ALTER is used to modify the structure of an existing database object, such as adding or deleting columns \n",
    "    from a table. For example, to add a new column named \"customer_phone\" to the \"customers\" table, you could \n",
    "    use the following SQL statement:\n",
    "      ALTER TABLE customers\n",
    "      ADD customer_phone VARCHAR(20);\n",
    "        \n",
    "    TRUNCATE is used to delete all the data from a table, but the table structure remains intact. This is useful \n",
    "    when you want to delete all the records from a table, but you want to keep the table structure for future use. \n",
    "    For example, to delete all the records from the \"customers\" table, you could use the following SQL statement:\n",
    "    TRUNCATE TABLE customers;\n",
    "    "
   ]
  },
  {
   "cell_type": "code",
   "execution_count": null,
   "id": "e65abd79-13d2-46e1-957f-a8b313e2575b",
   "metadata": {},
   "outputs": [],
   "source": [
    "Q.3> What is DML? Explain INSERT, UPDATE, and DELETE with an example.\n",
    "Ans> DML stands for Data Manipulation Language, which is a set of SQL commands used to manipulate data within \n",
    "     a database. The three main DML commands are INSERT, UPDATE, and DELETE.\n",
    "\n",
    "     INSERT is used to add new data into a table. For example, to add a new record into a table named \"employees\" \n",
    "     with the values \"John\" for the \"name\" column, \"35\" for the \"age\" column, and \"Developer\" for the \"job_title\" \n",
    "     column.\n",
    "        \n",
    "    UPDATE is used to modify existing data in a table. For example, to update the job title of an employee named \n",
    "    \"John\" in the \"employees\" table to \"Senior Developer\"\n",
    "    \n",
    "    DELETE is used to remove data from a table. For example, to delete all the records in the \"employees\" table \n",
    "    where the age is less than 30.\n",
    "    \n",
    "    \n",
    "\n"
   ]
  },
  {
   "cell_type": "code",
   "execution_count": null,
   "id": "733306c0-13f4-45e6-9376-21c5c34a6e9e",
   "metadata": {},
   "outputs": [],
   "source": [
    "Q.4> What is DQL? Explain SELECT with an example.\n",
    "Ans> DQL stands for Data Query Language, which is a subset of SQL used to query and retrieve data from a \n",
    "     database. The most commonly used DQL command is SELECT.\n",
    "\n",
    "     SELECT is used to retrieve data from one or more tables in a database. For example, to retrieve all \n",
    "     the records from a table named \"employees\" that contains columns for \"name\", \"age\", and \"job_title\", \n",
    "     you could use the following SQL statement:\n",
    "\n",
    "     SELECT name, age, job_title\n",
    "     FROM employees;\n"
   ]
  },
  {
   "cell_type": "code",
   "execution_count": null,
   "id": "a7b4ea0f-7c10-4d85-99ea-636bd94b5861",
   "metadata": {},
   "outputs": [],
   "source": [
    "Q.5> Explain Primary Key and Foreign Key.\n",
    "Ans> Primary Key and Foreign Key are two important concepts in relational database design.\n",
    "\n",
    "     A Primary Key is a column or set of columns in a table that uniquely identifies each record in that \n",
    "     table. It serves as a reference point for other tables to establish relationships. Every table must \n",
    "     have a Primary Key that cannot contain null values, and each value in the Primary Key must be unique. \n",
    "     Examples of columns that could serve as Primary Keys include social security numbers, email addresses, \n",
    "     or unique identification numbers."
   ]
  },
  {
   "cell_type": "code",
   "execution_count": null,
   "id": "f364050c-ab43-4ff6-b586-8087b18369d3",
   "metadata": {},
   "outputs": [],
   "source": [
    "#Q.6> Write a python code to connect MySQL to python. Explain the cursor() and execute() method.\n",
    "import mysql.connector\n",
    "\n",
    "# establish connection to MySQL server\n",
    "mydb = mysql.connector.connect(\n",
    "  host=\"localhost\",\n",
    "  user=\"yourusername\",\n",
    "  password=\"yourpassword\",\n",
    "  database=\"yourdatabase\"\n",
    ")\n",
    "\n",
    "# create a cursor object\n",
    "mycursor = mydb.cursor()\n",
    "\n",
    "# execute a SQL query\n",
    "mycursor.execute(\"SELECT * FROM customers\")\n",
    "\n",
    "# fetch all rows from the result set\n",
    "myresult = mycursor.fetchall()\n",
    "\n",
    "# print the result\n",
    "for row in myresult:\n",
    "  print(row)\n"
   ]
  },
  {
   "cell_type": "code",
   "execution_count": null,
   "id": "d7db0a03-06c1-4d8e-af03-a9426e8d15f5",
   "metadata": {},
   "outputs": [],
   "source": [
    "Q.7> Give the order of execution of SQL clauses in an SQL query.\n",
    "Ans> The order of execution of SQL clauses in an SQL query is as follows:\n",
    "\n",
    "     FROM - This clause specifies the table or tables from which the data is being selected.\n",
    "\n",
    "     WHERE - This clause filters the data based on a set of conditions specified by the user. \n",
    "     It is executed after the FROM clause.\n",
    "\n",
    "     GROUP BY - This clause groups the data based on one or more columns. It is executed after the WHERE clause.\n",
    "\n",
    "     HAVING - This clause filters the grouped data based on a set of conditions specified by the user. \n",
    "     It is executed after the GROUP BY clause.\n",
    "\n",
    "     SELECT - This clause selects the columns of data to be returned in the result set. It is executed after \n",
    "     the GROUP BY and HAVING clauses.\n",
    "\n",
    "     ORDER BY - This clause sorts the result set based on one or more columns. It is executed after the SELECT clause.\n",
    "\n",
    "     LIMIT - This clause limits the number of rows returned in the result set. It is executed last, after all other \n",
    "     clauses have been executed."
   ]
  },
  {
   "cell_type": "code",
   "execution_count": null,
   "id": "1e0ebb66-ba6e-4934-8a91-a16d6e8f670c",
   "metadata": {},
   "outputs": [],
   "source": []
  }
 ],
 "metadata": {
  "kernelspec": {
   "display_name": "Python 3 (ipykernel)",
   "language": "python",
   "name": "python3"
  },
  "language_info": {
   "codemirror_mode": {
    "name": "ipython",
    "version": 3
   },
   "file_extension": ".py",
   "mimetype": "text/x-python",
   "name": "python",
   "nbconvert_exporter": "python",
   "pygments_lexer": "ipython3",
   "version": "3.10.8"
  }
 },
 "nbformat": 4,
 "nbformat_minor": 5
}
